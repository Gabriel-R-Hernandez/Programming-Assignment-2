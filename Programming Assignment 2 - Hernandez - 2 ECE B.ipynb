{
 "cells": [
  {
   "cell_type": "code",
   "execution_count": 6,
   "id": "1be954e9-99cc-4be0-bc5b-66c1ce20022b",
   "metadata": {},
   "outputs": [
    {
     "name": "stdout",
     "output_type": "stream",
     "text": [
      "Original X:\n",
      " [[0.41285248 0.91417265 0.54087676 0.94721665 0.07492484]\n",
      " [0.707402   0.85468117 0.77829158 0.59672289 0.27347176]\n",
      " [0.36097637 0.80440561 0.78581754 0.90145956 0.15760627]\n",
      " [0.23659094 0.1580355  0.54914297 0.01630884 0.50893529]\n",
      " [0.61087732 0.8867319  0.8423654  0.00766122 0.88016881]]\n",
      "\n",
      "Mean of X: 0.5523078540892592\n",
      "Standard Deviation of X: 0.30730316240959576\n",
      "\n",
      "Normalized X:\n",
      " [[-0.45380389  1.17754987 -0.03719809  1.28507887 -1.55345949]\n",
      " [ 0.50469429  0.9839577   0.73537717  0.14453166 -0.90736487]\n",
      " [-0.62261477  0.82035524  0.75986751  1.13617999 -1.28440455]\n",
      " [-1.02737933 -1.28300781 -0.0102989  -1.74420272 -0.14113935]\n",
      " [ 0.1905918   1.0882545   0.94388077 -1.77234307  1.06689745]]\n",
      "\n",
      "Normalized data has been saved as 'X_normalized.npy'\n"
     ]
    }
   ],
   "source": [
    "import numpy as np\n",
    "\n",
    "#Generating the random 5x5 array\n",
    "X = np.random.rand(5, 5)  #generates random values between 0 and 1\n",
    "print(\"Original X:\\n\", X)\n",
    "\n",
    "#Compute mean and standard deviation\n",
    "mean_X = X.mean()\n",
    "std_X = X.std()\n",
    "print(\"\\nMean of X:\", mean_X) #Print the Mean\n",
    "print(\"Standard Deviation of X:\", std_X) #Print the Standard Deviation\n",
    "\n",
    "#Use the given normalization formula\n",
    "X_normalized = (X - mean_X) / std_X\n",
    "print(\"\\nNormalized X:\\n\", X_normalized) #Print the Normalized X\n",
    "\n",
    "#Save the normalized ndarray as X_normalized.npy\n",
    "np.save(\"X_normalized.npy\", X_normalized)\n",
    "print(\"\\nNormalized data has been saved as 'X_normalized.npy'\")"
   ]
  },
  {
   "cell_type": "code",
   "execution_count": 1,
   "id": "3451dd93-9a6c-4ad5-99db-9959bf5dafbb",
   "metadata": {},
   "outputs": [
    {
     "name": "stdout",
     "output_type": "stream",
     "text": [
      "10x10 ndarray (A):\n",
      " [[    1     4     9    16    25    36    49    64    81   100]\n",
      " [  121   144   169   196   225   256   289   324   361   400]\n",
      " [  441   484   529   576   625   676   729   784   841   900]\n",
      " [  961  1024  1089  1156  1225  1296  1369  1444  1521  1600]\n",
      " [ 1681  1764  1849  1936  2025  2116  2209  2304  2401  2500]\n",
      " [ 2601  2704  2809  2916  3025  3136  3249  3364  3481  3600]\n",
      " [ 3721  3844  3969  4096  4225  4356  4489  4624  4761  4900]\n",
      " [ 5041  5184  5329  5476  5625  5776  5929  6084  6241  6400]\n",
      " [ 6561  6724  6889  7056  7225  7396  7569  7744  7921  8100]\n",
      " [ 8281  8464  8649  8836  9025  9216  9409  9604  9801 10000]]\n",
      "\n",
      "Elements divisible by 3:\n",
      " [   9   36   81  144  225  324  441  576  729  900 1089 1296 1521 1764\n",
      " 2025 2304 2601 2916 3249 3600 3969 4356 4761 5184 5625 6084 6561 7056\n",
      " 7569 8100 8649 9216 9801]\n",
      "\n",
      "Array of elements divisible by 3 saved as 'div_by_3.npy'\n"
     ]
    }
   ],
   "source": [
    "import numpy as np\n",
    "\n",
    "#Generate squares of the first 100 positive integers\n",
    "numbers = np.arange(1, 101)   #array of numbers from 1 to 100\n",
    "squares = numbers ** 2        #square each number\n",
    "\n",
    "#Reshape into 10x10 ndarray or matrix\n",
    "A = squares.reshape(10, 10)\n",
    "print(\"10x10 ndarray (A):\\n\", A) #Print the array\n",
    "\n",
    "#Find elements divisible by 3\n",
    "div_by_3 = A[A % 3 == 0]\n",
    "print(\"\\nElements divisible by 3:\\n\", div_by_3) #Print the elements divisible by 3\n",
    "\n",
    "# Step 4: Save results to 'div_by_3.npy'\n",
    "np.save(\"div_by_3.npy\", div_by_3)\n",
    "print(\"\\nArray of elements divisible by 3 saved as 'div_by_3.npy'\")"
   ]
  },
  {
   "cell_type": "code",
   "execution_count": null,
   "id": "d492d1c0-7efe-418e-84f6-2f8bef9eaa7c",
   "metadata": {},
   "outputs": [],
   "source": []
  }
 ],
 "metadata": {
  "kernelspec": {
   "display_name": "Python [conda env:base] *",
   "language": "python",
   "name": "conda-base-py"
  },
  "language_info": {
   "codemirror_mode": {
    "name": "ipython",
    "version": 3
   },
   "file_extension": ".py",
   "mimetype": "text/x-python",
   "name": "python",
   "nbconvert_exporter": "python",
   "pygments_lexer": "ipython3",
   "version": "3.13.5"
  }
 },
 "nbformat": 4,
 "nbformat_minor": 5
}
